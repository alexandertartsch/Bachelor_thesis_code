{
 "cells": [
  {
   "cell_type": "code",
   "execution_count": 121,
   "metadata": {
    "scrolled": true
   },
   "outputs": [
    {
     "data": {
      "text/html": [
       "<style>.container { width:100% !important; }</style>"
      ],
      "text/plain": [
       "<IPython.core.display.HTML object>"
      ]
     },
     "metadata": {},
     "output_type": "display_data"
    }
   ],
   "source": [
    "from IPython.core.display import display, HTML\n",
    "display(HTML(\"<style>.container { width:100% !important; }</style>\"))"
   ]
  },
  {
   "cell_type": "markdown",
   "metadata": {},
   "source": [
    "# Import spike2 file via neo importer"
   ]
  },
  {
   "cell_type": "code",
   "execution_count": 364,
   "metadata": {
    "scrolled": false
   },
   "outputs": [
    {
     "name": "stderr",
     "output_type": "stream",
     "text": [
      "Units \"°C\" can not be converted to a quantity. Using dimensionless instead\n",
      "Units \"°C\" can not be converted to a quantity. Using dimensionless instead\n",
      "Units \"mN\" can not be converted to a quantity. Using dimensionless instead\n",
      "Units \"mN\" can not be converted to a quantity. Using dimensionless instead\n"
     ]
    },
    {
     "name": "stdout",
     "output_type": "stream",
     "text": [
      "There are the following channels in this recording: dict_keys(['rd.0', 'rd.2', 'rd.1', 'es.0', 'ap.0', 'ap.1', 'ap.2', 'ap.3', 'ap.4', 'ap.5', 'ap.6', 'ap.7', 'ap.8', 'ap.9', 'ap.10', 'ap.11', 'ap.12', 'ap.13', 'ap.14', 'ap.15', 'ap.16', 'ap.17', 'ap.18', 'ap.19', 'ap.20'])\n"
     ]
    }
   ],
   "source": [
    "from pathlib import Path\n",
    "import neo\n",
    "import neo_importers.neo_spike_importer as spike_importer\n",
    "from neo_importers.neo_wrapper import MNGRecording\n",
    "from features import FeatureDatabase\n",
    "\n",
    "file_name = Path(\"..\")/\"..\"/\"data\"/\"11_10_27U2a.smr\"\n",
    "\n",
    "# maybe we could make the spike importer return a recording object immediately?\n",
    "# or recording + block representation?\n",
    "bl, id_map = spike_importer.import_spike_file(file_name, \n",
    "                                      stimuli_event_channels={\"DigMark\"}, #mechanical_stimuli_from_raw={(\"Force\", 0.003)},\n",
    "                                      action_potential_channels= \"all\"\n",
    "                                      )\n",
    "seg: neo.core.Segment = bl.segments[0]\n",
    "recording = MNGRecording(bl.segments[0])\n",
    "\n",
    "print(\"There are the following channels in this recording: \" + str(recording.all_channels.keys()))"
   ]
  },
  {
   "cell_type": "code",
   "execution_count": 365,
   "metadata": {},
   "outputs": [],
   "source": [
    "#create two lists from es\n",
    "#one for mechanical stims\n",
    "mech_stims = []\n",
    "el_stims = []\n",
    "next_el = False\n",
    "\n",
    "#iterate over es.0\n",
    "for es in recording.electrical_stimulus_channels[\"es.0\"]:\n",
    "    if next_el == True:\n",
    "        el_stims.append(es)\n",
    "        next_el = False\n",
    "    if es.interval < 0.1:\n",
    "        mech_stims.append(es)\n",
    "        next_el = True\n",
    "    "
   ]
  },
  {
   "cell_type": "code",
   "execution_count": 366,
   "metadata": {},
   "outputs": [],
   "source": [
    "# create frequencies for electrical stimuli\n",
    "for el in el_stims:\n",
    "    el.frequency = round(1/el.interval, 1)"
   ]
  },
  {
   "cell_type": "markdown",
   "metadata": {},
   "source": [
    "# continue with old framework"
   ]
  },
  {
   "cell_type": "code",
   "execution_count": null,
   "metadata": {},
   "outputs": [],
   "source": [
    "%load_ext autoreload\n",
    "%autoreload 2\n",
    "from gui import SpikeImportGUI\n",
    "from importers import SpikeImporter\n",
    "from recordings import MNGRecording\n",
    "\n",
    "# present the Spike GUI and let the user make his choices\n",
    "spike_gui = SpikeImportGUI()\n",
    "\n",
    "importer = SpikeImporter(filepath = spike_gui.filepath, time_channel = spike_gui.time_channel, signal_channel = spike_gui.signal_channel)\n",
    "    \n",
    "recording = MNGRecording.from_importer(importer = importer, stimulus_channels = spike_gui.stimulus_channels, \\\n",
    "                                      ap_channels = spike_gui.ap_channels, force_threshold = spike_gui.force_threshold, \\\n",
    "                                      max_ap_gap_time = spike_gui.max_ap_gap)"
   ]
  },
  {
   "cell_type": "code",
   "execution_count": null,
   "metadata": {},
   "outputs": [],
   "source": [
    "import pandas as pd\n",
    "import numpy as np\n",
    "import matplotlib.pyplot as plt\n",
    "from scipy.signal import find_peaks\n",
    "import math\n",
    "from random import sample\n",
    "\n",
    "import pickle as pkl\n",
    "import plotly.graph_objects as go\n",
    "import plotly.express as px\n",
    "from plotly.subplots import make_subplots\n",
    "import plotly.figure_factory as ff\n",
    "import seaborn as sns\n",
    "#__________________________________\n",
    "\n",
    "#read in file from spike\n",
    "def read_data(filename, separator, colums, nrows = None):\n",
    "    data = pd.read_csv(filename, sep=separator, nrows=nrows)\n",
    "    data.colums = colums\n",
    "    return data\n",
    "\n",
    "def get_spike_count_under_mechanical_stimulus(fibers, start_level, level_range, mech_stimulus, time_window = 16, level = 10):\n",
    "    \n",
    "    #fibers = recording.actpots\n",
    "    level_spikes = {}\n",
    "    \n",
    "    for i in range(level):\n",
    "        \n",
    "        end_level = start_level + level_range\n",
    "        fiber_list = []\n",
    "        \n",
    "        for fiber in fibers:\n",
    "            if fiber.onset >= start_level and fiber.onset < end_level:\n",
    "                fiber_list.append(fiber)\n",
    "            if fiber.onset > end_level:\n",
    "                break\n",
    "            level_spikes[i] = fiber_list\n",
    "            \n",
    "        start_level = end_level\n",
    "        \n",
    "    return level_spikes\n",
    "\n",
    "#__________________________________\n",
    "\n",
    "#df = read_data(spike_gui.filepath, \",\", [\"Time\", \"32 DigMark\", \"4 nw-1\", \"3 Force\", \"1 Signal\"])\n",
    "#print('Biggest thing passed')\n",
    "#print(df)\n",
    "\n"
   ]
  },
  {
   "cell_type": "code",
   "execution_count": null,
   "metadata": {},
   "outputs": [],
   "source": [
    "# load file for mechanical stimulus recognition\n",
    "df = read_data(spike_gui.filepath, \",\", [\"Time\", \"32 DigMark\", \"5 nw-1\", \"3 Force\", \"1 Signal\"])\n",
    "print('Biggest thing passed')"
   ]
  },
  {
   "cell_type": "code",
   "execution_count": 369,
   "metadata": {},
   "outputs": [
    {
     "name": "stdout",
     "output_type": "stream",
     "text": [
      "Signals extracted\n",
      "freq_list created\n",
      "counts created\n",
      "times_wrt_stml and times_wrt_start created\n",
      "average spikes:  27.424242424242426\n",
      "Data stored in data\n"
     ]
    }
   ],
   "source": [
    "fibers = recording.actpots #df.loc[df[\"5 nw-1\"] == 1].values.tolist() # recording.actpots\n",
    "mechanical_stims = recording.el_stimuli #df.loc[df[\"32 DigMark\"]].values.tolist() #recording.el_stimuli\n",
    "\n",
    "m_signals = []\n",
    "for m_time in mechanical_stims:\n",
    "    #start_idx = df[ df['Time'] == m_time].index.values[0]\n",
    "    start_index = int(m_time.timepoint/0.00005)\n",
    "    #end_idx = df[ df['Time'] == m_time + 0.5].index.values[0]\n",
    "    end_index = int(start_index + 10000)\n",
    "    signal = df[start_index:end_index]['3 Force'].values\n",
    "    m_signals.append(signal[0::10])\n",
    "    \n",
    "print('Signals extracted')\n",
    "\n",
    "#___________________________________\n",
    "\n",
    "time_window = 0.5\n",
    "level = 50\n",
    "level_range = time_window / level\n",
    "freq_list = []\n",
    "\n",
    "for k, mech_st in enumerate(mechanical_stims):\n",
    "    \n",
    "    index_start = mech_st.timepoint/0.00005 #df[df[\"Time\"] == round(mech_st, 5)].index.values\n",
    "    index_end = index_start + 10000 #df[df[\"Time\"] == round(mech_st + time_window, 5)].index.values\n",
    "\n",
    "    start_level = mech_st.timepoint\n",
    "    \n",
    "    freq_list.append(get_spike_count_under_mechanical_stimulus(fibers, start_level, level_range, mech_st, time_window = time_window, level = level))\n",
    "    \n",
    "print('freq_list created')    \n",
    "#___________________________________\n",
    "\n",
    "rows = len(freq_list)\n",
    "colums = len(freq_list[0])\n",
    "counts = np.zeros((rows, colums))\n",
    "\n",
    "for i in range(rows):\n",
    "    for j in range(colums):\n",
    "        counts[i, j] += len(freq_list[i][j])\n",
    "        \n",
    "print('counts created')\n",
    "#___________________________________\n",
    "\n",
    "times_wrt_stml = []\n",
    "times_wrt_start = []\n",
    "\n",
    "for mech_st_id in range(len(freq_list)):\n",
    "    for level in freq_list[mech_st_id]:\n",
    "        for value in freq_list[mech_st_id][level]:\n",
    "            times_wrt_start.append([value.onset, mech_st_id])\n",
    "            times_wrt_stml.append([value.onset - mechanical_stims[mech_st_id].timepoint, mech_st_id])\n",
    "\n",
    "print('times_wrt_stml and times_wrt_start created')\n",
    "#___________________________________\n",
    "\n",
    "sum2 = len(times_wrt_start)\n",
    "avg2 = sum2/len(counts)\n",
    "print(\"average spikes: \", avg2)\n",
    "#___________________________________\n",
    "\n",
    "mech_forces = m_signals\n",
    "\n",
    "data = {}\n",
    "data['counts'] = counts\n",
    "data['mech_forces'] = mech_forces\n",
    "data['times_wrt_stml'] = times_wrt_stml\n",
    "data['times_wrt_start'] = times_wrt_start\n",
    "#pkl.dump(data, open(\"data_11_10_27U2a.pkl\", \"wb\"))\n",
    "\n",
    "print('Data stored in data')#_11_10_27U2a.pkl')"
   ]
  },
  {
   "cell_type": "code",
   "execution_count": 370,
   "metadata": {},
   "outputs": [
    {
     "data": {
      "image/png": "[encoded data removed]",
      "text/plain": [
       "<Figure size 1280x800 with 1 Axes>"
      ]
     },
     "metadata": {},
     "output_type": "display_data"
    }
   ],
   "source": [
    "times_separated = [[] for i in range(len(data['counts']))]\n",
    "current_idx = 0\n",
    "\n",
    "for time in data['times_wrt_stml']:\n",
    "    \n",
    "    idx = time[-1]\n",
    "    if current_idx != idx:\n",
    "        current_idx = idx\n",
    "        \n",
    "    times_separated[current_idx].append(time[0])\n",
    "    \n",
    "# _____________________________________________________________________________ #\n",
    "\n",
    "figure(num=None, figsize=(16, 10), dpi=80, facecolor='w', edgecolor='k')\n",
    "_ = plt.eventplot(times_separated, linelengths=0.75, color='black')\n",
    "\n",
    "plt.xlabel('Time (s)', fontsize=18)\n",
    "_ = plt.ylabel('Mechanical stimulus index', fontsize=16)"
   ]
  },
  {
   "cell_type": "code",
   "execution_count": 223,
   "metadata": {},
   "outputs": [],
   "source": [
    "def calc_train(idx):\n",
    "    train = []\n",
    "    for i, k in times_wrt_stml:\n",
    "        if(k == idx):\n",
    "            train.append(i)\n",
    "    return train\n",
    "\n",
    "def calc_train_start(idx):\n",
    "    train = []\n",
    "    for i, k in times_wrt_start:\n",
    "        if(k == idx):\n",
    "            train.append(i)\n",
    "    return train\n",
    "\n",
    "def find_shortest_list(lists):\n",
    "    min_i = len(lists[0])\n",
    "    for l in lists:\n",
    "        if(len(l) < min_i):\n",
    "            min_i = len(l)\n",
    "    return min_i\n",
    "\n",
    "#spike train timings\n",
    "def calc_train_timings(train):\n",
    "    train_timings = []\n",
    "    for i in range(len(train)-1):\n",
    "        #print(i)\n",
    "        train_timings.append(train[i+1]/train[i])\n",
    "    return train_timings\n",
    "\n",
    "#calculate average timings\n",
    "def calc_avg_train_timings(trains, length):\n",
    "    avg_timings = []\n",
    "    if(length < 5):\n",
    "        length = 5\n",
    "    for i in range(length):\n",
    "        avg_timing_sum = 0\n",
    "        for j in range(len(trains)):\n",
    "            avg_timing_sum += trains[j][i]\n",
    "        avg_timings.append(avg_timing_sum/len(trains))\n",
    "    return avg_timings\n",
    "\n",
    "#cut short spike trains\n",
    "def cut_short_trains(trains):\n",
    "    long_trains = []\n",
    "    for i in range(len(trains)):\n",
    "        if(len(trains[i]) < 5):\n",
    "            continue\n",
    "        long_trains.append(trains[i])\n",
    "    return long_trains\n",
    "\n",
    "# calculate ISIs\n",
    "def calc_isi(train):\n",
    "    single_isi = []\n",
    "    for i in range(len(train) - 1):\n",
    "        single_isi.append(train[i + 1]  - train[i])\n",
    "    return single_isi\n",
    "        \n",
    "def plot_spike_train_timing(length, spike_timings, train_number):\n",
    "    # Data for plotting\n",
    "    spikes = np.arange(0, length, 1)\n",
    "\n",
    "    fig, ax = plt.subplots()\n",
    "    ax.plot(spikes, spike_timings, '-o')\n",
    "    \n",
    "    ax.set(xlabel='spike', ylabel='distance',\n",
    "       title='Spike Train '+ str(train_number))\n",
    "    plt.grid(True)\n",
    "\n",
    "    #fig.savefig(\"spike_train_0.png\")\n",
    "    plt.show()"
   ]
  },
  {
   "cell_type": "code",
   "execution_count": 371,
   "metadata": {
    "scrolled": false
   },
   "outputs": [
    {
     "data": {
      "image/png": "[encoded data removed]",
      "text/plain": [
       "<Figure size 432x288 with 1 Axes>"
      ]
     },
     "metadata": {},
     "output_type": "display_data"
    },
    {
     "name": "stdout",
     "output_type": "stream",
     "text": [
      "33\n"
     ]
    }
   ],
   "source": [
    "trains = []\n",
    "for i in range(len(counts)):\n",
    "    train = calc_train(i)\n",
    "    spike_timings = calc_train_timings(train)\n",
    "    trains.append(spike_timings)\n",
    "    #plot_spike_train_timing(len(train)-1, spike_timings, i)\n",
    "min_length = find_shortest_list(trains)\n",
    "if(min_length < 5):\n",
    "    min_length = 5\n",
    "long_trains = cut_short_trains(trains)\n",
    "avg_spike_timings = calc_avg_train_timings(long_trains, min_length)\n",
    "plot_spike_train_timing(min_length, avg_spike_timings, 'avg')\n",
    "print(len(long_trains))\n"
   ]
  },
  {
   "cell_type": "code",
   "execution_count": 372,
   "metadata": {},
   "outputs": [
    {
     "name": "stdout",
     "output_type": "stream",
     "text": [
      "[30.0, 29.0, 28.0, 31.0, 27.0, 29.0, 25.0, 24.0, 24.0, 23.0, 25.0, 28.0, 31.0, 29.0, 26.0, 25.0, 28.0, 24.0, 31.0, 29.0, 26.0, 28.0, 26.0, 27.0, 25.0, 30.0, 27.0, 32.0, 26.0, 29.0, 27.0, 29.0, 27.0]\n"
     ]
    }
   ],
   "source": [
    "spike_counts = []\n",
    "for i in range(len(counts)):\n",
    "    sum_ = 0\n",
    "    for i, val in enumerate(counts[i]):\n",
    "        sum_ += val\n",
    "    spike_counts.append(sum_)\n",
    "print(spike_counts)"
   ]
  },
  {
   "cell_type": "markdown",
   "metadata": {},
   "source": [
    "# calculate the excel table"
   ]
  },
  {
   "cell_type": "code",
   "execution_count": 373,
   "metadata": {},
   "outputs": [
    {
     "name": "stdout",
     "output_type": "stream",
     "text": [
      "Ich habe fertig.\n"
     ]
    }
   ],
   "source": [
    "import math\n",
    "import copy\n",
    "\n",
    "# calculate mech durations\n",
    "for m in recording.mech_stimuli:\n",
    "    m.duration = m.offset - m.onset\n",
    "    \n",
    "num_trains = len(recording.mech_stimuli)\n",
    "\n",
    "#calculate time to next mech stim\n",
    "for i in range(num_trains-1):\n",
    "    recording.mech_stimuli[i].next_stim = recording.mech_stimuli[i+1].onset-recording.mech_stimuli[i].onset\n",
    "\n",
    "#calculate time to next stim\n",
    "for m in range(len(recording.mech_stimuli)-1):\n",
    "    recording.mech_stimuli[m].next_stim = recording.mech_stimuli[m + 1].onset - recording.mech_stimuli[m].onset\n",
    "    \n",
    "#calculate spike train times\n",
    "spike_train_times = []\n",
    "for i in range(num_trains):\n",
    "    spike_train_times.append(calc_train_start(i))\n",
    "    \n",
    "#calculate spike train durations\n",
    "spike_train_duration = []\n",
    "for i in range(len(spike_counts)):\n",
    "    if(spike_counts[i] > 0):\n",
    "        spike_train_duration.append(spike_train_times[i][int(spike_counts[i])-1] - spike_train_times[i][0])\n",
    "    else:\n",
    "        spike_train_duration.append(0)\n",
    "        \n",
    "isi = []\n",
    "for i in range(len(spike_train_times)):\n",
    "    isi.append(calc_isi(spike_train_times[i]))\n",
    "\n",
    "# calculate log(isi)\n",
    "log_isi = copy.deepcopy(isi)\n",
    "for i in range(len(isi)):\n",
    "    for j in range(len(isi[i])):\n",
    "        log_isi[i][j] = math.log(log_isi[i][j], 10)\n",
    "        \n",
    "#calculate instantaneous frequency\n",
    "inst_freq = copy.deepcopy(isi)\n",
    "for i in range(len(isi)):\n",
    "    for j in range(len(isi[i])):\n",
    "        inst_freq[i][j] = 1/inst_freq[i][j]\n",
    "        \n",
    "# calculate the peak firing frequency (sliding window)\n",
    "peak_firing_freq_sw = []\n",
    "for i in range(len(inst_freq)):\n",
    "    peak_firing_freq_sw.append(max((np.convolve(inst_freq[i], np.ones(5)/5, mode = 'valid'))))\n",
    "    \n",
    "# calculate the peak firing frequenciy (5 highest instantaneous frequencies)\n",
    "peak_firing_freq_if = []\n",
    "for i in range(len(inst_freq)):\n",
    "    peak_firing_freq_if.append(np.mean(sorted(inst_freq[i], reverse=True)[:5]))\n",
    "        \n",
    "max_spikes = int(max(spike_counts))\n",
    "print(\"Ich habe fertig.\")"
   ]
  },
  {
   "cell_type": "code",
   "execution_count": 169,
   "metadata": {},
   "outputs": [],
   "source": [
    "import xlsxwriter"
   ]
  },
  {
   "cell_type": "code",
   "execution_count": 374,
   "metadata": {},
   "outputs": [],
   "source": [
    "workbook = xlsxwriter.Workbook('11_10_27U2a.xlsx')\n",
    "ws = workbook.add_worksheet('11_10_27U2a')\n",
    "cell_format_b = workbook.add_format({'bg_color': '#b4c6e7'})\n",
    "cell_format_w = workbook.add_format({'bg_color': 'white'})\n"
   ]
  },
  {
   "cell_type": "code",
   "execution_count": 375,
   "metadata": {},
   "outputs": [],
   "source": [
    "### mechanical stimulus ###\n",
    "ws.write(0, 0, \"spike train\", cell_format_w)\n",
    "for i in range(num_trains):\n",
    "    ws.write(0, i + 1, i, cell_format_w)\n",
    "\n",
    "# write amplitude\n",
    "ws.write(1, 0, \"amplitude\", cell_format_b)\n",
    "#ws.write_row('B2', recording.mech_stimuli.amplitude)\n",
    "for i in range(len(recording.mech_stimuli)):\n",
    "    ws.write(1, i + 1, recording.mech_stimuli[i].amplitude, cell_format_b)\n",
    "        \n",
    "# write onset\n",
    "ws.write(2, 0, \"onset\", cell_format_w)\n",
    "i = 0\n",
    "for m in recording.mech_stimuli:\n",
    "    ws.write(2, i + 1, m.onset, cell_format_w)\n",
    "    i += 1\n",
    "\n",
    "# write duration\n",
    "ws.write(3, 0, \"duration\", cell_format_b)\n",
    "i = 0\n",
    "for m in recording.mech_stimuli:\n",
    "    ws.write(3, i + 1, m.duration, cell_format_b)\n",
    "    i += 1\n",
    "        \n",
    "# write timings\n",
    "ws.write(4, 0, \"mech stim timings\", cell_format_w)\n",
    "i = 0\n",
    "for m in recording.el_stimuli:\n",
    "    ws.write(4, i + 1, m.timepoint, cell_format_w)\n",
    "    i += 1\n",
    "        \n",
    "# write time to next stim\n",
    "ws.write(5, 0, \"time to next mechanical stimulus\", cell_format_b)\n",
    "i = 0\n",
    "for m in range(len(recording.mech_stimuli)-1):\n",
    "    ws.write(5, i + 1, recording.mech_stimuli[m].next_stim, cell_format_b)\n",
    "    i += 1"
   ]
  },
  {
   "cell_type": "code",
   "execution_count": 376,
   "metadata": {},
   "outputs": [],
   "source": [
    "### spike trains ###\n",
    "# write number of spikes\n",
    "ws.write(6, 0, \"number of spikes\", cell_format_w)\n",
    "i = 0\n",
    "for num in spike_counts:\n",
    "    ws.write(6, i + 1, num, cell_format_w)\n",
    "    i += 1\n",
    "    \n",
    "# write spike train duration\n",
    "ws.write(7, 0, \"spike train duration\", cell_format_b)\n",
    "i = 0\n",
    "for dur in spike_train_duration:\n",
    "    ws.write(7, i + 1, dur, cell_format_b)\n",
    "    i += 1\n",
    "\n",
    "# write electrical stimulus frequency\n",
    "ws.write(8, 0, \"electrical stimulus frequency\", cell_format_w)\n",
    "for i in range(len(el_stims)):\n",
    "    ws.write(8, i + 1, el_stims[i].frequency, cell_format_w)\n",
    "    \n",
    "# write peak frequency (sliding window)\n",
    "ws.write(9, 0, \"sliding window peak frequency\", cell_format_b)\n",
    "ws.write_row(9, 1, peak_firing_freq_sw, cell_format_b)\n",
    "\n",
    "# write peak frequency (5 highest instantaneous frequencies)\n",
    "ws.write(10, 0, \"peak frequency (5 max instantaneous frequencies)\", cell_format_w)\n",
    "ws.write_row(10, 1, peak_firing_freq_if, cell_format_w)\n",
    "    \n",
    "# write spike times\n",
    "ws.write(11, 0, \"spike train times\", cell_format_b)\n",
    "for i in range(len(spike_train_times)):\n",
    "    for j in range(len(spike_train_times[i])):\n",
    "        ws.write(j + 11, i + 1, spike_train_times[i][j], cell_format_b)\n",
    "\n",
    "# write ISI\n",
    "ws.write(11 + max_spikes, 0, \"ISI\", cell_format_w)\n",
    "for i in range(len(isi)):\n",
    "    for j in range(len(isi[i])):\n",
    "        ws.write(11 + max_spikes + j, i + 1, round(isi[i][j], 5), cell_format_w)\n",
    "\n",
    "# write log(ISI)\n",
    "ws.write(11 + (max_spikes*2), 0, \"log(ISI)\", cell_format_b)\n",
    "for i in range(len(log_isi)):\n",
    "    for j in range(len(log_isi[i])):\n",
    "        ws.write(11 + (max_spikes*2) + j, i + 1, round(log_isi[i][j], 5), cell_format_b)\n",
    "        \n",
    "# write inst freq\n",
    "ws.write(11 + (max_spikes*3), 0, \"instantaneous frequencies\", cell_format_w)\n",
    "for i in range(len(inst_freq)):\n",
    "    for j in range(len(inst_freq[i])):\n",
    "        ws.write(11 + (max_spikes*3) + j, i + 1, round(inst_freq[i][j], 5), cell_format_w)"
   ]
  },
  {
   "cell_type": "code",
   "execution_count": 377,
   "metadata": {},
   "outputs": [],
   "source": [
    "# make cute graphs\n",
    "# electrical frequency and number of spikes\n",
    "chart_num_spikes = workbook.add_chart({'type': 'scatter'})\n",
    "\n",
    "# number of spikes\n",
    "chart_num_spikes.add_series({\n",
    "    'name': '=11_10_27U2a!$A$7',\n",
    "    'categories': '=11_10_27U2a!$B$5:$AZ$5',\n",
    "    'values': '=11_10_27U2a!$B$7:$AZ$7',\n",
    "    'line':       {'color': 'blue'},\n",
    "})\n",
    "\n",
    "# electrical frequency\n",
    "chart_num_spikes.add_series({\n",
    "    'name': '=11_10_27U2a!$A$9',\n",
    "    'categories': '=11_10_27U2a!$B$5:$AZ$5',\n",
    "    'values': '=11_10_27U2a!$B$9:$AZ$9',\n",
    "    'y2_axis': 1,\n",
    "})\n",
    "\n",
    "chart_num_spikes.set_legend({'position': 'right'})\n",
    "\n",
    "chart_num_spikes.set_title({'name': 'Electrical stimulus frequency, #spikes'})\n",
    "chart_num_spikes.set_x_axis({'name': 'Time'})\n",
    "chart_num_spikes.set_y_axis({'name': '#spikes'})\n",
    "chart_num_spikes.set_y2_axis({'name': 'Frequency'})\n",
    "\n",
    "ws.insert_chart('D5', chart_num_spikes, {'x_offset': 25, 'y_offset':10})\n",
    "\n",
    "#electrical frequency and spike train duration\n",
    "chart_train_duration = workbook.add_chart({'type': 'scatter'})\n",
    "\n",
    "# spike train duration\n",
    "chart_train_duration.add_series({\n",
    "    'name': '=11_10_27U2a!$A$8',\n",
    "    'categories': '=11_10_27U2a!$B$5:$AZ$5',\n",
    "    'values': '=11_10_27U2a!$B$8:$AZ$8',\n",
    "    'line':       {'color': 'blue'},\n",
    "})\n",
    "\n",
    "#electrical frequency\n",
    "chart_train_duration.add_series({\n",
    "    'name': '=11_10_27U2a!$A$9',\n",
    "    'categories': '=11_10_27U2a!$B$5:$AZ$5',\n",
    "    'values': '=11_10_27U2a!$B$9:$AZ$9',\n",
    "    'y2_axis': 1,\n",
    "})\n",
    "\n",
    "chart_train_duration.set_legend({'position': 'right'})\n",
    "\n",
    "chart_train_duration.set_title({'name': 'Electrical stimulus frequency, spike train duration'})\n",
    "chart_train_duration.set_x_axis({'name': 'Time'})\n",
    "chart_train_duration.set_y_axis({'name': 'Duration'})\n",
    "chart_train_duration.set_y2_axis({'name': 'Frequency'})\n",
    "\n",
    "ws.insert_chart('D20', chart_train_duration, {'x_offset': 25, 'y_offset':10})"
   ]
  },
  {
   "cell_type": "code",
   "execution_count": 378,
   "metadata": {},
   "outputs": [],
   "source": [
    "#electrical frequency and peak firing frequency (sliding window)\n",
    "chart_peak_sw = workbook.add_chart({'type': 'scatter'})\n",
    "\n",
    "# peak firing frequency (sliding window)\n",
    "chart_peak_sw.add_series({\n",
    "    'name': '=11_10_27U2a!$A$10',\n",
    "    'categories': '=11_10_27U2a!$B$5:$AZ$5',\n",
    "    'values': '=11_10_27U2a!$B$10:$AZ$10',\n",
    "    'line':       {'color': 'blue'},\n",
    "})\n",
    "\n",
    "#electrical frequency\n",
    "chart_peak_sw.add_series({\n",
    "    'name': '=11_10_27U2a!$A$9',\n",
    "    'categories': '=11_10_27U2a!$B$5:$AZ$5',\n",
    "    'values': '=11_10_27U2a!$B$9:$AZ$9',\n",
    "    'y2_axis': 1,\n",
    "})\n",
    "\n",
    "chart_peak_sw.set_legend({'position': 'right'})\n",
    "\n",
    "chart_peak_sw.set_title({'name': 'Electrical stimulus frequency, peak firing frequency (sw)'})\n",
    "chart_peak_sw.set_x_axis({'name': 'Time'})\n",
    "chart_peak_sw.set_y_axis({'name': 'PFF (sw)'})\n",
    "chart_peak_sw.set_y2_axis({'name': 'Frequency'})\n",
    "\n",
    "ws.insert_chart('L5', chart_peak_sw, {'x_offset': 25, 'y_offset':10})\n",
    "\n",
    "#electrical frequency and peak firing frequency (max frequencies)\n",
    "chart_peak_if = workbook.add_chart({'type': 'scatter'})\n",
    "\n",
    "# peak firing frequency (max frequencies)\n",
    "chart_peak_if.add_series({\n",
    "    'name': '=11_10_27U2a!$A$11',\n",
    "    'categories': '=11_10_27U2a!$B$5:$AZ$5',\n",
    "    'values': '=11_10_27U2a!$B$11:$AZ$11',\n",
    "    'line':       {'color': 'blue'},\n",
    "})\n",
    "\n",
    "#electrical frequency\n",
    "chart_peak_if.add_series({\n",
    "    'name': '=11_10_27U2a!$A$9',\n",
    "    'categories': '=11_10_27U2a!$B$5:$AZ$5',\n",
    "    'values': '=11_10_27U2a!$B$9:$AZ$9',\n",
    "    'y2_axis': 1,\n",
    "})\n",
    "\n",
    "chart_peak_if.set_legend({'position': 'right'})\n",
    "\n",
    "chart_peak_if.set_title({'name': 'Electrical stimulus frequency, peak firing frequency (if)'})\n",
    "chart_peak_if.set_x_axis({'name': 'Time'})\n",
    "chart_peak_if.set_y_axis({'name': 'PFF (if)'})\n",
    "chart_peak_if.set_y2_axis({'name': 'Frequency'})\n",
    "\n",
    "ws.insert_chart('L20', chart_peak_if, {'x_offset': 25, 'y_offset':10})"
   ]
  },
  {
   "cell_type": "code",
   "execution_count": 379,
   "metadata": {},
   "outputs": [],
   "source": [
    "workbook.close()"
   ]
  }
 ],
 "metadata": {
  "kernelspec": {
   "display_name": "Python 3",
   "language": "python",
   "name": "python3"
  },
  "language_info": {
   "codemirror_mode": {
    "name": "ipython",
    "version": 3
   },
   "file_extension": ".py",
   "mimetype": "text/x-python",
   "name": "python",
   "nbconvert_exporter": "python",
   "pygments_lexer": "ipython3",
   "version": "3.8.5"
  }
 },
 "nbformat": 4,
 "nbformat_minor": 2
}
